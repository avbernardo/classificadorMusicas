{
  "nbformat": 4,
  "nbformat_minor": 0,
  "metadata": {
    "colab": {
      "name": "classificacao_musicas.ipynb",
      "provenance": [],
      "collapsed_sections": []
    },
    "kernelspec": {
      "name": "python3",
      "display_name": "Python 3"
    },
    "accelerator": "GPU"
  },
  "cells": [
    {
      "cell_type": "code",
      "metadata": {
        "id": "AU_lz5JwQi88",
        "colab_type": "code",
        "outputId": "5e89810b-3180-46f9-c2b0-a79a873874ef",
        "colab": {
          "base_uri": "https://localhost:8080/",
          "height": 34
        }
      },
      "source": [
        "from google.colab import drive\n",
        "drive.mount('/content/drive')"
      ],
      "execution_count": 0,
      "outputs": [
        {
          "output_type": "stream",
          "text": [
            "Drive already mounted at /content/drive; to attempt to forcibly remount, call drive.mount(\"/content/drive\", force_remount=True).\n"
          ],
          "name": "stdout"
        }
      ]
    },
    {
      "cell_type": "code",
      "metadata": {
        "id": "MP8U4lX-QAq3",
        "colab_type": "code",
        "colab": {}
      },
      "source": [
        "import warnings\n",
        "warnings.filterwarnings(\"ignore\", category = FutureWarning)\n",
        "\n",
        "import os\n",
        "import keras\n",
        "import h5py\n",
        "import librosa\n",
        "import itertools\n",
        "import numpy as np\n",
        "import matplotlib.pyplot as plt\n",
        "from collections import OrderedDict\n",
        "\n",
        "from keras.utils import to_categorical\n",
        "from sklearn.model_selection import train_test_split\n",
        "from sklearn.metrics import confusion_matrix\n",
        "\n",
        "from keras.models import Sequential\n",
        "from keras.layers import Dense\n",
        "from keras.layers import Activation\n",
        "from keras.layers import Conv2D\n",
        "from keras.layers import MaxPooling2D\n",
        "from keras.layers import Dropout\n",
        "from keras.layers import Flatten\n",
        "import cv2\n",
        "from google.colab.patches import cv2_imshow\n",
        "from keras.layers import BatchNormalization"
      ],
      "execution_count": 0,
      "outputs": []
    },
    {
      "cell_type": "code",
      "metadata": {
        "id": "-gv1u16rQNiN",
        "colab_type": "code",
        "colab": {}
      },
      "source": [
        "def splitsongs(X, y, window = 0.1, overlap = 0.5):\n",
        "    # Empty lists to hold our results\n",
        "    temp_X = []\n",
        "    temp_y = []\n",
        "\n",
        "    # Get the input song array size\n",
        "    xshape = X.shape[0]\n",
        "    chunk = int(xshape*window)\n",
        "    offset = int(chunk*(1.-overlap))\n",
        "    \n",
        "    # Split the song and create new ones on windows\n",
        "    spsong = [X[i:i+chunk] for i in range(0, xshape - chunk + offset, offset)]\n",
        "    for s in spsong:\n",
        "        temp_X.append(s)\n",
        "        temp_y.append(y)\n",
        "\n",
        "    return np.array(temp_X), np.array(temp_y)"
      ],
      "execution_count": 0,
      "outputs": []
    },
    {
      "cell_type": "code",
      "metadata": {
        "id": "7G8H_vG8QVJ4",
        "colab_type": "code",
        "colab": {}
      },
      "source": [
        "def to_melspectrogram(songs, n_fft = 1024, hop_length = 512):\n",
        "    # Função para transformar arquivos de audio em mel spectogramas\n",
        "    melspec = lambda x: librosa.feature.melspectrogram(x, n_fft = n_fft,\n",
        "        hop_length = hop_length)[:,:,np.newaxis]\n",
        "    tsongs = map(melspec, songs)\n",
        "    return np.array(list(tsongs))"
      ],
      "execution_count": 0,
      "outputs": []
    },
    {
      "cell_type": "code",
      "metadata": {
        "id": "0NrfCseZQV0a",
        "colab_type": "code",
        "colab": {}
      },
      "source": [
        "def read_data(src_dir, genres, song_samples, spec_format, debug = True):    \n",
        "    # Empty array of dicts with the processed features from all files\n",
        "    arr_specs = []\n",
        "    arr_genres = []\n",
        "\n",
        "    # Read files from the folders\n",
        "    for x,_ in genres.items():\n",
        "        folder = src_dir + x\n",
        "        print (folder)\n",
        "        for root, subdirs, files in os.walk(folder):\n",
        "            for file in files:\n",
        "                # Read the audio file\n",
        "                file_name = folder + \"/\" + file\n",
        "                signal, sr = librosa.load(file_name)\n",
        "                signal = signal[:song_samples]\n",
        "                \n",
        "                # Debug process\n",
        "                if debug:\n",
        "                    print(\"Reading file: {}\".format(file_name))\n",
        "                \n",
        "                # Convert to dataset of spectograms/melspectograms\n",
        "                signals, y = splitsongs(signal, genres[x])\n",
        "                \n",
        "                # Convert to \"spec\" representation\n",
        "                specs = spec_format(signals)\n",
        "                \n",
        "                # Save files\n",
        "                arr_genres.extend(y)\n",
        "                arr_specs.extend(specs)\n",
        "                \n",
        "                \n",
        "    return np.array(arr_specs), np.array(arr_genres)"
      ],
      "execution_count": 0,
      "outputs": []
    },
    {
      "cell_type": "code",
      "metadata": {
        "id": "j2rSzgr3QV5c",
        "colab_type": "code",
        "outputId": "d9c3d5e8-22d4-4a5b-c476-55a3fde30ce8",
        "colab": {
          "base_uri": "https://localhost:8080/",
          "height": 357
        }
      },
      "source": [
        "# Parameters\n",
        "gtzan_dir = '/content/drive/My Drive/GTZAN/genres/'\n",
        "song_samples = 660000\n",
        "genres = {'metal': 0, 'disco': 1, 'classical': 2, 'hiphop': 3, 'jazz': 4, \n",
        "          'country': 5, 'pop': 6, 'blues': 7, 'reggae': 8, 'rock': 9}\n",
        "\n",
        "# Read the data\n",
        "X, y = read_data(gtzan_dir, genres, song_samples, to_melspectrogram, debug=False)\n",
        "print(X.shape)"
      ],
      "execution_count": 0,
      "outputs": [
        {
          "output_type": "stream",
          "text": [
            "/content/drive/My Drive/GTZAN/genres/metal\n"
          ],
          "name": "stdout"
        },
        {
          "output_type": "error",
          "ename": "NameError",
          "evalue": "ignored",
          "traceback": [
            "\u001b[0;31m---------------------------------------------------------------------------\u001b[0m",
            "\u001b[0;31mNameError\u001b[0m                                 Traceback (most recent call last)",
            "\u001b[0;32m<ipython-input-51-1f37e5750641>\u001b[0m in \u001b[0;36m<module>\u001b[0;34m()\u001b[0m\n\u001b[1;32m      5\u001b[0m \u001b[0;34m\u001b[0m\u001b[0m\n\u001b[1;32m      6\u001b[0m \u001b[0;31m# Read the data\u001b[0m\u001b[0;34m\u001b[0m\u001b[0;34m\u001b[0m\u001b[0;34m\u001b[0m\u001b[0m\n\u001b[0;32m----> 7\u001b[0;31m \u001b[0mX\u001b[0m\u001b[0;34m,\u001b[0m \u001b[0my\u001b[0m \u001b[0;34m=\u001b[0m \u001b[0mread_data\u001b[0m\u001b[0;34m(\u001b[0m\u001b[0mgtzan_dir\u001b[0m\u001b[0;34m,\u001b[0m \u001b[0mgenres\u001b[0m\u001b[0;34m,\u001b[0m \u001b[0msong_samples\u001b[0m\u001b[0;34m,\u001b[0m \u001b[0mto_melspectrogram\u001b[0m\u001b[0;34m,\u001b[0m \u001b[0mdebug\u001b[0m\u001b[0;34m=\u001b[0m\u001b[0;32mFalse\u001b[0m\u001b[0;34m)\u001b[0m\u001b[0;34m\u001b[0m\u001b[0;34m\u001b[0m\u001b[0m\n\u001b[0m\u001b[1;32m      8\u001b[0m \u001b[0mprint\u001b[0m\u001b[0;34m(\u001b[0m\u001b[0mX\u001b[0m\u001b[0;34m.\u001b[0m\u001b[0mshape\u001b[0m\u001b[0;34m)\u001b[0m\u001b[0;34m\u001b[0m\u001b[0;34m\u001b[0m\u001b[0m\n",
            "\u001b[0;32m<ipython-input-50-0004c1fe0c0d>\u001b[0m in \u001b[0;36mread_data\u001b[0;34m(src_dir, genres, song_samples, spec_format, debug)\u001b[0m\n\u001b[1;32m     23\u001b[0m \u001b[0;34m\u001b[0m\u001b[0m\n\u001b[1;32m     24\u001b[0m                 \u001b[0;31m# Convert to \"spec\" representation\u001b[0m\u001b[0;34m\u001b[0m\u001b[0;34m\u001b[0m\u001b[0;34m\u001b[0m\u001b[0m\n\u001b[0;32m---> 25\u001b[0;31m                 \u001b[0mspecs\u001b[0m \u001b[0;34m=\u001b[0m \u001b[0mspec_format\u001b[0m\u001b[0;34m(\u001b[0m\u001b[0msignals\u001b[0m\u001b[0;34m)\u001b[0m\u001b[0;34m\u001b[0m\u001b[0;34m\u001b[0m\u001b[0m\n\u001b[0m\u001b[1;32m     26\u001b[0m \u001b[0;34m\u001b[0m\u001b[0m\n\u001b[1;32m     27\u001b[0m                 \u001b[0;31m# Save files\u001b[0m\u001b[0;34m\u001b[0m\u001b[0;34m\u001b[0m\u001b[0;34m\u001b[0m\u001b[0m\n",
            "\u001b[0;32m<ipython-input-49-6e82be097b15>\u001b[0m in \u001b[0;36mto_melspectrogram\u001b[0;34m(songs, n_fft, hop_length)\u001b[0m\n\u001b[1;32m      6\u001b[0m     \u001b[0;31m# map transformation of input songs to melspectrogram using log-scale\u001b[0m\u001b[0;34m\u001b[0m\u001b[0;34m\u001b[0m\u001b[0;34m\u001b[0m\u001b[0m\n\u001b[1;32m      7\u001b[0m     \u001b[0mtsongs\u001b[0m \u001b[0;34m=\u001b[0m \u001b[0mmap\u001b[0m\u001b[0;34m(\u001b[0m\u001b[0mmelspec\u001b[0m\u001b[0;34m,\u001b[0m \u001b[0msongs\u001b[0m\u001b[0;34m)\u001b[0m\u001b[0;34m\u001b[0m\u001b[0;34m\u001b[0m\u001b[0m\n\u001b[0;32m----> 8\u001b[0;31m     \u001b[0mplot\u001b[0m\u001b[0;34m(\u001b[0m\u001b[0mtsongs\u001b[0m\u001b[0;34m)\u001b[0m\u001b[0;34m\u001b[0m\u001b[0;34m\u001b[0m\u001b[0m\n\u001b[0m\u001b[1;32m      9\u001b[0m     \u001b[0;32mreturn\u001b[0m \u001b[0mnp\u001b[0m\u001b[0;34m.\u001b[0m\u001b[0marray\u001b[0m\u001b[0;34m(\u001b[0m\u001b[0mlist\u001b[0m\u001b[0;34m(\u001b[0m\u001b[0mtsongs\u001b[0m\u001b[0;34m)\u001b[0m\u001b[0;34m)\u001b[0m\u001b[0;34m\u001b[0m\u001b[0;34m\u001b[0m\u001b[0m\n",
            "\u001b[0;31mNameError\u001b[0m: name 'plot' is not defined"
          ]
        }
      ]
    },
    {
      "cell_type": "code",
      "metadata": {
        "id": "qRMOX6EkQV8b",
        "colab_type": "code",
        "colab": {}
      },
      "source": [
        "np.save('x_gtzan_npy.npy', X)\n",
        "np.save('y_gtzan_npy.npy', y)"
      ],
      "execution_count": 0,
      "outputs": []
    },
    {
      "cell_type": "code",
      "metadata": {
        "id": "yxicgvWtQV-_",
        "colab_type": "code",
        "colab": {}
      },
      "source": [
        "y = to_categorical(y)"
      ],
      "execution_count": 0,
      "outputs": []
    },
    {
      "cell_type": "code",
      "metadata": {
        "id": "aQgB9JjsQWEw",
        "colab_type": "code",
        "colab": {}
      },
      "source": [
        "X_train, X_test, y_train, y_test = train_test_split(X, y, test_size=0.3, random_state=42, stratify = y)"
      ],
      "execution_count": 0,
      "outputs": []
    },
    {
      "cell_type": "code",
      "metadata": {
        "id": "Mo3hMdogQWHb",
        "colab_type": "code",
        "outputId": "2f010122-e966-4136-968d-d61e9637afc2",
        "colab": {
          "base_uri": "https://localhost:8080/",
          "height": 34
        }
      },
      "source": [
        "print(X_train.shape, X_test.shape, y_train.shape, y_test.shape)"
      ],
      "execution_count": 0,
      "outputs": [
        {
          "output_type": "stream",
          "text": [
            "(13300, 128, 129, 1) (5700, 128, 129, 1) (13300, 10) (5700, 10)\n"
          ],
          "name": "stdout"
        }
      ]
    },
    {
      "cell_type": "code",
      "metadata": {
        "id": "MYElQMWfQ1rB",
        "colab_type": "code",
        "outputId": "4d180c46-d113-47f8-90e1-4c8059bb00c0",
        "colab": {
          "base_uri": "https://localhost:8080/",
          "height": 265
        }
      },
      "source": [
        "values, count = np.unique(np.argmax(y_train, axis=1), return_counts=True)\n",
        "plt.bar(values, count)\n",
        "\n",
        "values, count = np.unique(np.argmax(y_test, axis=1), return_counts=True)\n",
        "plt.bar(values, count)\n",
        "plt.show()"
      ],
      "execution_count": 0,
      "outputs": [
        {
          "output_type": "display_data",
          "data": {
            "image/png": "[encoded data removed]",
            "text/plain": [
              "<Figure size 432x288 with 1 Axes>"
            ]
          },
          "metadata": {
            "tags": []
          }
        }
      ]
    },
    {
      "cell_type": "code",
      "metadata": {
        "id": "TplyvcwkQ1xc",
        "colab_type": "code",
        "colab": {}
      },
      "source": [
        "input_shape = X_train[0].shape\n",
        "num_genres = 10\n",
        "\n",
        "model = Sequential()\n",
        "#implementação da concolução 2D\n",
        "model.add(Conv2D(16, kernel_size=(3, 3), strides=(1, 1),\n",
        "                 activation='relu', input_shape=input_shape))\n",
        "#implementação de MAxPooling para reduzir o tamanho da imagem\n",
        "model.add(MaxPooling2D(pool_size=(2, 2), strides=(2, 2)))\n",
        "#implementação de DropOut\n",
        "model.add(Dropout(0.2))\n",
        "\n",
        "model.add(Conv2D(32, (3, 3), strides=(1, 1), activation='relu'))\n",
        "model.add(MaxPooling2D(pool_size=(2, 2), strides=(2, 2)))\n",
        "model.add(Dropout(0.2))\n",
        "\n",
        "model.add(Conv2D(64, (3, 3), strides=(1, 1), activation='relu'))\n",
        "model.add(MaxPooling2D(pool_size=(2, 2), strides=(2, 2)))\n",
        "model.add(Dropout(0.2))\n",
        "\n",
        "model.add(Conv2D(128, (3, 3), strides=(1, 1), activation='relu'))\n",
        "model.add(MaxPooling2D(pool_size=(2, 2), strides=(2, 2)))\n",
        "model.add(Dropout(0.2))\n",
        "\n",
        "model.add(Conv2D(64, (3, 3), strides=(1, 1), activation='relu'))\n",
        "model.add(MaxPooling2D(pool_size=(4, 4), strides=(4, 4)))\n",
        "model.add(Dropout(0.2))\n",
        "#Flatten para transformar a imagem em array\n",
        "model.add(Flatten())\n",
        "model.add(Dense(num_genres, activation='softmax'))\n",
        "\n"
      ],
      "execution_count": 0,
      "outputs": []
    },
    {
      "cell_type": "code",
      "metadata": {
        "id": "2DG1UWhIu8aL",
        "colab_type": "code",
        "outputId": "4f59ce9c-e244-4d42-8d71-376d384b9768",
        "colab": {
          "base_uri": "https://localhost:8080/",
          "height": 731
        }
      },
      "source": [
        "model.summary()"
      ],
      "execution_count": 0,
      "outputs": [
        {
          "output_type": "stream",
          "text": [
            "Model: \"sequential_2\"\n",
            "_________________________________________________________________\n",
            "Layer (type)                 Output Shape              Param #   \n",
            "=================================================================\n",
            "conv2d_6 (Conv2D)            (None, 126, 127, 16)      160       \n",
            "_________________________________________________________________\n",
            "max_pooling2d_6 (MaxPooling2 (None, 63, 63, 16)        0         \n",
            "_________________________________________________________________\n",
            "dropout_6 (Dropout)          (None, 63, 63, 16)        0         \n",
            "_________________________________________________________________\n",
            "conv2d_7 (Conv2D)            (None, 61, 61, 32)        4640      \n",
            "_________________________________________________________________\n",
            "max_pooling2d_7 (MaxPooling2 (None, 30, 30, 32)        0         \n",
            "_________________________________________________________________\n",
            "dropout_7 (Dropout)          (None, 30, 30, 32)        0         \n",
            "_________________________________________________________________\n",
            "conv2d_8 (Conv2D)            (None, 28, 28, 64)        18496     \n",
            "_________________________________________________________________\n",
            "max_pooling2d_8 (MaxPooling2 (None, 14, 14, 64)        0         \n",
            "_________________________________________________________________\n",
            "dropout_8 (Dropout)          (None, 14, 14, 64)        0         \n",
            "_________________________________________________________________\n",
            "conv2d_9 (Conv2D)            (None, 12, 12, 128)       73856     \n",
            "_________________________________________________________________\n",
            "max_pooling2d_9 (MaxPooling2 (None, 6, 6, 128)         0         \n",
            "_________________________________________________________________\n",
            "dropout_9 (Dropout)          (None, 6, 6, 128)         0         \n",
            "_________________________________________________________________\n",
            "conv2d_10 (Conv2D)           (None, 4, 4, 64)          73792     \n",
            "_________________________________________________________________\n",
            "max_pooling2d_10 (MaxPooling (None, 1, 1, 64)          0         \n",
            "_________________________________________________________________\n",
            "dropout_10 (Dropout)         (None, 1, 1, 64)          0         \n",
            "_________________________________________________________________\n",
            "flatten_2 (Flatten)          (None, 64)                0         \n",
            "_________________________________________________________________\n",
            "dense_2 (Dense)              (None, 10)                650       \n",
            "=================================================================\n",
            "Total params: 171,594\n",
            "Trainable params: 171,594\n",
            "Non-trainable params: 0\n",
            "_________________________________________________________________\n"
          ],
          "name": "stdout"
        }
      ]
    },
    {
      "cell_type": "code",
      "metadata": {
        "id": "69O-T9xPQ14s",
        "colab_type": "code",
        "outputId": "951755ae-0d4b-4536-feaa-db7474eafeec",
        "colab": {
          "base_uri": "https://localhost:8080/",
          "height": 1000
        }
      },
      "source": [
        "model.compile(loss=keras.losses.categorical_crossentropy,\n",
        "              optimizer=keras.optimizers.Adam(),\n",
        "              metrics=['accuracy'])\n",
        "\n",
        "history = model.fit(X_train, y_train,\n",
        "          batch_size=32,\n",
        "          epochs=50,\n",
        "          verbose=1,\n",
        "          validation_data=(X_test, y_test))"
      ],
      "execution_count": 0,
      "outputs": [
        {
          "output_type": "stream",
          "text": [
            "Train on 13300 samples, validate on 5700 samples\n",
            "Epoch 1/50\n",
            "13300/13300 [==============================] - 7s 540us/step - loss: 2.0771 - acc: 0.2567 - val_loss: 1.7607 - val_acc: 0.3667\n",
            "Epoch 2/50\n",
            "13300/13300 [==============================] - 6s 447us/step - loss: 1.6090 - acc: 0.4221 - val_loss: 1.5752 - val_acc: 0.4272\n",
            "Epoch 3/50\n",
            "13300/13300 [==============================] - 6s 447us/step - loss: 1.4532 - acc: 0.4867 - val_loss: 1.3614 - val_acc: 0.5111\n",
            "Epoch 4/50\n",
            "13300/13300 [==============================] - 6s 447us/step - loss: 1.3087 - acc: 0.5459 - val_loss: 1.1739 - val_acc: 0.6107\n",
            "Epoch 5/50\n",
            "13300/13300 [==============================] - 6s 445us/step - loss: 1.2171 - acc: 0.5813 - val_loss: 1.0525 - val_acc: 0.6484\n",
            "Epoch 6/50\n",
            "13300/13300 [==============================] - 6s 445us/step - loss: 1.1421 - acc: 0.6138 - val_loss: 1.0527 - val_acc: 0.6623\n",
            "Epoch 7/50\n",
            "13300/13300 [==============================] - 6s 443us/step - loss: 1.0581 - acc: 0.6397 - val_loss: 0.9971 - val_acc: 0.6756\n",
            "Epoch 8/50\n",
            "13300/13300 [==============================] - 6s 453us/step - loss: 0.9996 - acc: 0.6646 - val_loss: 0.8858 - val_acc: 0.7114\n",
            "Epoch 9/50\n",
            "13300/13300 [==============================] - 6s 454us/step - loss: 0.9641 - acc: 0.6739 - val_loss: 0.8838 - val_acc: 0.7167\n",
            "Epoch 10/50\n",
            "13300/13300 [==============================] - 6s 444us/step - loss: 0.9211 - acc: 0.6932 - val_loss: 0.8795 - val_acc: 0.6947\n",
            "Epoch 11/50\n",
            "13300/13300 [==============================] - 6s 442us/step - loss: 0.8880 - acc: 0.7036 - val_loss: 0.7861 - val_acc: 0.7502\n",
            "Epoch 12/50\n",
            "13300/13300 [==============================] - 6s 438us/step - loss: 0.8424 - acc: 0.7141 - val_loss: 0.7732 - val_acc: 0.7428\n",
            "Epoch 13/50\n",
            "13300/13300 [==============================] - 6s 433us/step - loss: 0.8127 - acc: 0.7292 - val_loss: 0.7519 - val_acc: 0.7568\n",
            "Epoch 14/50\n",
            "13300/13300 [==============================] - 6s 435us/step - loss: 0.7860 - acc: 0.7368 - val_loss: 0.6891 - val_acc: 0.7772\n",
            "Epoch 15/50\n",
            "13300/13300 [==============================] - 6s 436us/step - loss: 0.7657 - acc: 0.7411 - val_loss: 0.6931 - val_acc: 0.7712\n",
            "Epoch 16/50\n",
            "13300/13300 [==============================] - 6s 439us/step - loss: 0.7435 - acc: 0.7490 - val_loss: 0.6917 - val_acc: 0.7711\n",
            "Epoch 17/50\n",
            "13300/13300 [==============================] - 6s 438us/step - loss: 0.7166 - acc: 0.7611 - val_loss: 0.7429 - val_acc: 0.7495\n",
            "Epoch 18/50\n",
            "13300/13300 [==============================] - 6s 437us/step - loss: 0.7081 - acc: 0.7618 - val_loss: 0.6709 - val_acc: 0.7765\n",
            "Epoch 19/50\n",
            "13300/13300 [==============================] - 6s 450us/step - loss: 0.6772 - acc: 0.7742 - val_loss: 0.6177 - val_acc: 0.7961\n",
            "Epoch 20/50\n",
            "13300/13300 [==============================] - 6s 441us/step - loss: 0.6764 - acc: 0.7702 - val_loss: 0.6240 - val_acc: 0.7995\n",
            "Epoch 21/50\n",
            "13300/13300 [==============================] - 6s 440us/step - loss: 0.6416 - acc: 0.7859 - val_loss: 0.6285 - val_acc: 0.7951\n",
            "Epoch 22/50\n",
            "13300/13300 [==============================] - 6s 434us/step - loss: 0.6285 - acc: 0.7874 - val_loss: 0.6016 - val_acc: 0.8075\n",
            "Epoch 23/50\n",
            "13300/13300 [==============================] - 6s 436us/step - loss: 0.6163 - acc: 0.7956 - val_loss: 0.5659 - val_acc: 0.8146\n",
            "Epoch 24/50\n",
            "13300/13300 [==============================] - 6s 442us/step - loss: 0.5975 - acc: 0.7978 - val_loss: 0.5241 - val_acc: 0.8316\n",
            "Epoch 25/50\n",
            "13300/13300 [==============================] - 6s 434us/step - loss: 0.5860 - acc: 0.8024 - val_loss: 0.5621 - val_acc: 0.8172\n",
            "Epoch 26/50\n",
            "13300/13300 [==============================] - 6s 439us/step - loss: 0.5821 - acc: 0.8043 - val_loss: 0.5714 - val_acc: 0.8105\n",
            "Epoch 27/50\n",
            "13300/13300 [==============================] - 6s 434us/step - loss: 0.5650 - acc: 0.8099 - val_loss: 0.5331 - val_acc: 0.8268\n",
            "Epoch 28/50\n",
            "13300/13300 [==============================] - 6s 437us/step - loss: 0.5665 - acc: 0.8070 - val_loss: 0.5743 - val_acc: 0.8128\n",
            "Epoch 29/50\n",
            "13300/13300 [==============================] - 6s 438us/step - loss: 0.5506 - acc: 0.8192 - val_loss: 0.5766 - val_acc: 0.8086\n",
            "Epoch 30/50\n",
            "13300/13300 [==============================] - 6s 436us/step - loss: 0.5401 - acc: 0.8189 - val_loss: 0.5093 - val_acc: 0.8402\n",
            "Epoch 31/50\n",
            "13300/13300 [==============================] - 6s 436us/step - loss: 0.5279 - acc: 0.8243 - val_loss: 0.5351 - val_acc: 0.8286\n",
            "Epoch 32/50\n",
            "13300/13300 [==============================] - 6s 436us/step - loss: 0.5148 - acc: 0.8274 - val_loss: 0.5213 - val_acc: 0.8289\n",
            "Epoch 33/50\n",
            "13300/13300 [==============================] - 6s 431us/step - loss: 0.5197 - acc: 0.8277 - val_loss: 0.5354 - val_acc: 0.8226\n",
            "Epoch 34/50\n",
            "13300/13300 [==============================] - 6s 436us/step - loss: 0.4970 - acc: 0.8356 - val_loss: 0.5039 - val_acc: 0.8358\n",
            "Epoch 35/50\n",
            "13300/13300 [==============================] - 6s 439us/step - loss: 0.4925 - acc: 0.8352 - val_loss: 0.4976 - val_acc: 0.8400\n",
            "Epoch 36/50\n",
            "13300/13300 [==============================] - 6s 431us/step - loss: 0.4926 - acc: 0.8353 - val_loss: 0.4914 - val_acc: 0.8391\n",
            "Epoch 37/50\n",
            "13300/13300 [==============================] - 6s 437us/step - loss: 0.4963 - acc: 0.8341 - val_loss: 0.5056 - val_acc: 0.8361\n",
            "Epoch 38/50\n",
            "13300/13300 [==============================] - 6s 432us/step - loss: 0.4736 - acc: 0.8420 - val_loss: 0.4908 - val_acc: 0.8400\n",
            "Epoch 39/50\n",
            "13300/13300 [==============================] - 6s 440us/step - loss: 0.4677 - acc: 0.8422 - val_loss: 0.5025 - val_acc: 0.8337\n",
            "Epoch 40/50\n",
            "13300/13300 [==============================] - 6s 436us/step - loss: 0.4670 - acc: 0.8421 - val_loss: 0.4800 - val_acc: 0.8379\n",
            "Epoch 41/50\n",
            "13300/13300 [==============================] - 6s 434us/step - loss: 0.4645 - acc: 0.8421 - val_loss: 0.4786 - val_acc: 0.8484\n",
            "Epoch 42/50\n",
            "13300/13300 [==============================] - 6s 435us/step - loss: 0.4516 - acc: 0.8504 - val_loss: 0.4685 - val_acc: 0.8491\n",
            "Epoch 43/50\n",
            "13300/13300 [==============================] - 6s 434us/step - loss: 0.4501 - acc: 0.8515 - val_loss: 0.4699 - val_acc: 0.8435\n",
            "Epoch 44/50\n",
            "13300/13300 [==============================] - 6s 431us/step - loss: 0.4621 - acc: 0.8452 - val_loss: 0.5026 - val_acc: 0.8363\n",
            "Epoch 45/50\n",
            "13300/13300 [==============================] - 6s 436us/step - loss: 0.4403 - acc: 0.8526 - val_loss: 0.4511 - val_acc: 0.8575\n",
            "Epoch 46/50\n",
            "13300/13300 [==============================] - 6s 438us/step - loss: 0.4394 - acc: 0.8505 - val_loss: 0.4656 - val_acc: 0.8495\n",
            "Epoch 47/50\n",
            "13300/13300 [==============================] - 6s 436us/step - loss: 0.4322 - acc: 0.8559 - val_loss: 0.4649 - val_acc: 0.8491\n",
            "Epoch 48/50\n",
            "13300/13300 [==============================] - 6s 439us/step - loss: 0.4240 - acc: 0.8581 - val_loss: 0.4512 - val_acc: 0.8528\n",
            "Epoch 49/50\n",
            "13300/13300 [==============================] - 6s 435us/step - loss: 0.4413 - acc: 0.8537 - val_loss: 0.4855 - val_acc: 0.8411\n",
            "Epoch 50/50\n",
            "13300/13300 [==============================] - 6s 432us/step - loss: 0.4041 - acc: 0.8649 - val_loss: 0.4389 - val_acc: 0.8611\n"
          ],
          "name": "stdout"
        }
      ]
    },
    {
      "cell_type": "code",
      "metadata": {
        "id": "xqq6eGfqQ18M",
        "colab_type": "code",
        "outputId": "fe91e4b0-38da-4fda-ca4c-73e73407f6db",
        "colab": {
          "base_uri": "https://localhost:8080/",
          "height": 34
        }
      },
      "source": [
        "score = model.evaluate(X_test, y_test, verbose=0)\n",
        "print(\"val_loss = {:.3f} and val_acc = {:.3f}\".format(score[0], score[1]))"
      ],
      "execution_count": 0,
      "outputs": [
        {
          "output_type": "stream",
          "text": [
            "val_loss = 0.439 and val_acc = 0.861\n"
          ],
          "name": "stdout"
        }
      ]
    },
    {
      "cell_type": "code",
      "metadata": {
        "id": "mEK419ADQ2EG",
        "colab_type": "code",
        "outputId": "a651ff6d-8063-433b-b723-8629f05b3c09",
        "colab": {
          "base_uri": "https://localhost:8080/",
          "height": 513
        }
      },
      "source": [
        "plt.figure(figsize=(15,7))\n",
        "\n",
        "plt.subplot(1,2,1)\n",
        "plt.plot(hist.history['acc'], label='train')\n",
        "plt.plot(hist.history['val_acc'], label='validation')\n",
        "plt.title('Accuracy')\n",
        "plt.xlabel('Epochs')\n",
        "plt.ylabel('Accuracy')\n",
        "plt.legend()\n",
        "\n",
        "plt.subplot(1,2,2)\n",
        "plt.plot(hist.history['loss'], label='train')\n",
        "plt.plot(hist.history['val_loss'], label='validation')\n",
        "plt.title('Loss')\n",
        "plt.xlabel('Epochs')\n",
        "plt.ylabel('Loss')\n",
        "plt.legend()\n",
        "\n",
        "plt.tight_layout()\n",
        "plt.show()"
      ],
      "execution_count": 0,
      "outputs": [
        {
          "output_type": "display_data",
          "data": {
            "image/png": "[encoded data removed]",
            "text/plain": [
              "<Figure size 1080x504 with 2 Axes>"
            ]
          },
          "metadata": {
            "tags": []
          }
        }
      ]
    },
    {
      "cell_type": "code",
      "metadata": {
        "id": "VCB9cWwuQ2Jh",
        "colab_type": "code",
        "colab": {}
      },
      "source": [
        "def plot_confusion_matrix(cm, classes,\n",
        "                          normalize=False,\n",
        "                          title='Confusion matrix',\n",
        "                          cmap=plt.cm.Blues):\n",
        "    \"\"\"\n",
        "    This function prints and plots the confusion matrix.\n",
        "    Normalization can be applied by setting `normalize=True`.\n",
        "    \"\"\"\n",
        "    if normalize:\n",
        "        cm = cm.astype('float') / cm.sum(axis=1)[:, np.newaxis]\n",
        "        print(\"Normalized confusion matrix\")\n",
        "    else:\n",
        "        print('Confusion matrix, without normalization')\n",
        "\n",
        "    plt.imshow(cm, interpolation='nearest', cmap=cmap)\n",
        "    plt.title(title)\n",
        "    plt.colorbar()\n",
        "    tick_marks = np.arange(len(classes))\n",
        "    plt.xticks(tick_marks, classes, rotation=45)\n",
        "    plt.yticks(tick_marks, classes)\n",
        "\n",
        "    fmt = '.2f' if normalize else 'd'\n",
        "    thresh = cm.max() / 2.\n",
        "    for i, j in itertools.product(range(cm.shape[0]), range(cm.shape[1])):\n",
        "        plt.text(j, i, format(cm[i, j], fmt),\n",
        "                 horizontalalignment=\"center\",\n",
        "                 color=\"white\" if cm[i, j] > thresh else \"black\")\n",
        "\n",
        "    plt.tight_layout()\n",
        "    plt.ylabel('True label')\n",
        "    plt.xlabel('Predicted label')"
      ],
      "execution_count": 0,
      "outputs": []
    },
    {
      "cell_type": "code",
      "metadata": {
        "id": "Y6M5IBI2Q2MS",
        "colab_type": "code",
        "outputId": "97d5c794-79c2-4a77-e663-33d89efc7920",
        "colab": {
          "base_uri": "https://localhost:8080/",
          "height": 204
        }
      },
      "source": [
        "preds = np.argmax(model.predict(X_test), axis = 1)\n",
        "y_orig = np.argmax(y_test, axis = 1)\n",
        "cm = confusion_matrix(preds, y_orig)\n",
        "print(\"Confusion Matrix:\")\n",
        "print(cm)"
      ],
      "execution_count": 0,
      "outputs": [
        {
          "output_type": "stream",
          "text": [
            "Confusion Matrix:\n",
            "[[542   3   1  21   0   2   9   5   1  36]\n",
            " [  0 518   0   8   0   7  16   1  23  27]\n",
            " [  0   8 550   0  39   7   9   2   6  10]\n",
            " [  4   1   0 502   0   0  19   7  17   5]\n",
            " [  1   0  14   0 510  28   4  21  11  10]\n",
            " [  2   7   0   3   6 419  17  17   7  26]\n",
            " [  0   7   0  15   0   4 449   2   3   2]\n",
            " [  0   0   1   3   5   8   3 479   5   2]\n",
            " [  0   3   0   9   2   9   6  22 494   7]\n",
            " [ 21  23   4   9   8  86  38  14   3 445]]\n"
          ],
          "name": "stdout"
        }
      ]
    },
    {
      "cell_type": "code",
      "metadata": {
        "id": "FwLDuddqQ123",
        "colab_type": "code",
        "outputId": "252defcf-fec9-4c92-9da4-0ad465fee106",
        "colab": {
          "base_uri": "https://localhost:8080/",
          "height": 328
        }
      },
      "source": [
        "keys = OrderedDict(sorted(genres.items(), key=lambda t: t[1])).keys()\n",
        "\n",
        "#plt.figure(figsize=(8,8))\n",
        "plot_confusion_matrix(cm, keys, normalize=False)"
      ],
      "execution_count": 0,
      "outputs": [
        {
          "output_type": "stream",
          "text": [
            "Confusion matrix, without normalization\n"
          ],
          "name": "stdout"
        },
        {
          "output_type": "display_data",
          "data": {
            "image/png": "[encoded data removed]",
            "text/plain": [
              "<Figure size 432x288 with 2 Axes>"
            ]
          },
          "metadata": {
            "tags": []
          }
        }
      ]
    },
    {
      "cell_type": "code",
      "metadata": {
        "id": "xuA4BNTQQ100",
        "colab_type": "code",
        "colab": {}
      },
      "source": [
        ""
      ],
      "execution_count": 0,
      "outputs": []
    },
    {
      "cell_type": "code",
      "metadata": {
        "id": "nIvJ0JkVQ1vz",
        "colab_type": "code",
        "colab": {}
      },
      "source": [
        ""
      ],
      "execution_count": 0,
      "outputs": []
    },
    {
      "cell_type": "code",
      "metadata": {
        "id": "2C0i43XRQWDV",
        "colab_type": "code",
        "colab": {}
      },
      "source": [
        ""
      ],
      "execution_count": 0,
      "outputs": []
    }
  ]
}